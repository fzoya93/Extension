{
 "cells": [
  {
   "cell_type": "code",
   "execution_count": null,
   "id": "394c7e8e-725b-46c9-ac58-0621b784b7ab",
   "metadata": {},
   "outputs": [],
   "source": [
    "          #Practical Questions..."
   ]
  },
  {
   "cell_type": "code",
   "execution_count": 6,
   "id": "1e067876-9e54-4698-9ad8-c4751600c9b2",
   "metadata": {},
   "outputs": [],
   "source": [
    "# 1)   How can you open a file for writing in Python and write a string to it?\n",
    "\n",
    "  #1)  \n",
    "with open(\"myfile.txt\", \"w\") as file:\n",
    "    # Write a string to the file\n",
    "    file.write(\"Hello, world!\")\n"
   ]
  },
  {
   "cell_type": "code",
   "execution_count": 3,
   "id": "aeefeac3-38da-490d-a273-75be9bcaf767",
   "metadata": {},
   "outputs": [
    {
     "name": "stdout",
     "output_type": "stream",
     "text": [
      "Hello, this is a test string.\n"
     ]
    }
   ],
   "source": [
    " # 2)  Write a Python program to read the contents of a file and print each line?\n",
    "#2)\n",
    "\n",
    "with open(\"example.txt\", \"r\") as file:\n",
    "    for line in file:\n",
    "        print(line.strip())  \n"
   ]
  },
  {
   "cell_type": "code",
   "execution_count": 9,
   "id": "d54cb397-35a2-4118-a0bb-ccf0cf06c77d",
   "metadata": {},
   "outputs": [
    {
     "name": "stdout",
     "output_type": "stream",
     "text": [
      "Hello, this is a test string.\n"
     ]
    }
   ],
   "source": [
    " # 3)  How would you handle a case where the file doesn't exist while trying to open it for reading?\n",
    "#3)\n",
    "filename = \"example.txt\"\n",
    "\n",
    "try:\n",
    "    with open(filename, 'r') as file:\n",
    "        content = file.read()\n",
    "        print(content)\n",
    "except FileNotFoundError:\n",
    "    print(f\"Error: The file '{filename}' does not exist.\")\n"
   ]
  },
  {
   "cell_type": "code",
   "execution_count": 10,
   "id": "678896f0-4352-478c-b778-91e7c7892994",
   "metadata": {},
   "outputs": [
    {
     "name": "stdout",
     "output_type": "stream",
     "text": [
      "Error: The file 'source.txt' does not exist.\n"
     ]
    }
   ],
   "source": [
    " # 4) Write a Python script that reads from one file and writes its content to another file.\n",
    "\n",
    "#4)\n",
    "\n",
    "input_file = 'source.txt'     \n",
    "output_file = 'destination.txt'  \n",
    "\n",
    "try:\n",
    "   \n",
    "    with open(input_file, 'r') as src, open(output_file, 'w') as dest:\n",
    "        for line in src:\n",
    "            dest.write(line)\n",
    "    print(f\"Contents copied from '{input_file}' to '{output_file}' successfully.\")\n",
    "except FileNotFoundError:\n",
    "    print(f\"Error: The file '{input_file}' does not exist.\")\n",
    "except Exception as e:\n",
    "    print(f\"An error occurred: {e}\")\n"
   ]
  },
  {
   "cell_type": "code",
   "execution_count": 11,
   "id": "da00e177-1a5c-47a9-87c2-319ae8363469",
   "metadata": {},
   "outputs": [
    {
     "name": "stdout",
     "output_type": "stream",
     "text": [
      "Error: Cannot divide by zero.\n"
     ]
    }
   ],
   "source": [
    " # 5)  How would you catch and handle division by zero error in Python?\n",
    "\n",
    "#5\n",
    "try:\n",
    "    numerator = 10\n",
    "    denominator = 0\n",
    "    result = numerator / denominator\n",
    "    print(\"Result:\", result)\n",
    "except ZeroDivisionError:\n",
    "    print(\"Error: Cannot divide by zero.\")\n"
   ]
  },
  {
   "cell_type": "code",
   "execution_count": 12,
   "id": "a2e63f6a-d334-4bb9-abdd-77979df0481b",
   "metadata": {},
   "outputs": [
    {
     "name": "stdout",
     "output_type": "stream",
     "text": [
      "An error occurred. Check the log file for details.\n"
     ]
    }
   ],
   "source": [
    "  # 6)  Write a Python program that logs an error message to a log file when a division by zero exception occur?\n",
    "\n",
    "#6\n",
    "import logging\n",
    "\n",
    "try:\n",
    "    numerator = 10\n",
    "    denominator = 0\n",
    "    result = numerator / denominator\n",
    "except ZeroDivisionError as e:\n",
    "    logging.error(\"Attempted to divide by zero: %s\", e)\n",
    "    print(\"An error occurred. Check the log file for details.\")\n"
   ]
  },
  {
   "cell_type": "code",
   "execution_count": 13,
   "id": "13b8c480-11c0-4732-a791-7f832ae55f50",
   "metadata": {},
   "outputs": [],
   "source": [
    "   # 7)  How do you log information at different levels (INFO, ERROR, WARNING) in Python using the logging module?\n",
    "\n",
    "#7\n",
    "import logging\n",
    "\n",
    "logging.basicConfig(filename='app_log.txt', level=logging.DEBUG,\n",
    "                    format='%(asctime)s - %(levelname)s - %(message)s')\n",
    "\n",
    "# Logging at various levels\n",
    "logging.debug(\"This is a debug message.\")\n",
    "logging.info(\"This is an info message.\")\n",
    "logging.warning(\"This is a warning.\")\n",
    "logging.error(\"This is an error message.\")\n",
    "logging.critical(\"This is a critical message.\")\n"
   ]
  },
  {
   "cell_type": "code",
   "execution_count": 15,
   "id": "3c5538af-a3a8-49e9-882c-05c18956dd88",
   "metadata": {},
   "outputs": [
    {
     "name": "stdout",
     "output_type": "stream",
     "text": [
      "Hello, world!\n"
     ]
    }
   ],
   "source": [
    "  # 8)  Write a program to handle a file opening error using exception handling?\n",
    "\n",
    "#8\n",
    "try:\n",
    "\n",
    "    file = open(\"myfile.txt\", \"r\")\n",
    "    content = file.read()\n",
    "    print(content)\n",
    "    file.close()\n",
    "except FileNotFoundError:\n",
    "    print(\"Error: The file 'myfile.txt' was not found.\")\n"
   ]
  },
  {
   "cell_type": "code",
   "execution_count": 18,
   "id": "4c22b592-9f72-49bf-82bf-3fddd70b0a89",
   "metadata": {},
   "outputs": [
    {
     "name": "stdout",
     "output_type": "stream",
     "text": [
      "['Hello, world!']\n"
     ]
    }
   ],
   "source": [
    "  # 9)  How can you read a file line by line and store its content in a list in Python?\n",
    "\n",
    "#9\n",
    "with open(\"myfile.txt\", \"r\") as file:\n",
    "    lines = file.readlines()\n",
    "\n",
    "print(lines)\n",
    "\n"
   ]
  },
  {
   "cell_type": "code",
   "execution_count": 20,
   "id": "001821a3-1c76-49bc-a8dc-15fe32c10ead",
   "metadata": {},
   "outputs": [
    {
     "name": "stdout",
     "output_type": "stream",
     "text": [
      "Updated File Content:\n",
      " Hello, world!This is new data being appended.\n",
      "Appended using a+ mode.\n",
      "\n"
     ]
    }
   ],
   "source": [
    "   # 10) How can you append data to an existing file in Python?\n",
    "\n",
    "#10\n",
    "with open(\"myfile.txt\", \"a+\") as file:\n",
    "    file.write(\"Appended using a+ mode.\\n\")\n",
    "    file.seek(0)  \n",
    "    content = file.read()\n",
    "    print(\"Updated File Content:\\n\", content)\n",
    "\n"
   ]
  },
  {
   "cell_type": "code",
   "execution_count": null,
   "id": "2dbdb5ab-26e6-4a42-b0a1-dea3cc4dcf5b",
   "metadata": {},
   "outputs": [],
   "source": []
  }
 ],
 "metadata": {
  "kernelspec": {
   "display_name": "Python 3 (ipykernel)",
   "language": "python",
   "name": "python3"
  },
  "language_info": {
   "codemirror_mode": {
    "name": "ipython",
    "version": 3
   },
   "file_extension": ".py",
   "mimetype": "text/x-python",
   "name": "python",
   "nbconvert_exporter": "python",
   "pygments_lexer": "ipython3",
   "version": "3.12.7"
  }
 },
 "nbformat": 4,
 "nbformat_minor": 5
}
